{
  "cells": [
    {
      "cell_type": "code",
      "execution_count": null,
      "metadata": {
        "id": "MnKZafe591bu",
        "outputId": "75f049cc-407e-4766-d57a-c0f3d0544be6",
        "colab": {
          "base_uri": "https://localhost:8080/"
        }
      },
      "outputs": [
        {
          "output_type": "stream",
          "name": "stdout",
          "text": [
            "Mounted at /content/drive\n"
          ]
        }
      ],
      "source": [
        "# This mounts your Google Drive to the Colab VM.\n",
        "from google.colab import drive\n",
        "drive.mount('/content/drive')\n",
        "\n",
        "# TODO: Enter the foldername in your Drive where you have saved the unzipped\n",
        "# assignment folder, e.g. 'cs682/assignments/assignment3/'\n",
        "FOLDERNAME = 'final_project'\n",
        "assert FOLDERNAME is not None, \"[!] Enter the foldername.\"\n",
        "\n",
        "# Now that we've mounted your Drive, this ensures that\n",
        "# the Python interpreter of the Colab VM can load\n",
        "# python files from within it.\n",
        "import sys\n",
        "sys.path.append('/content/drive/Sharedrives/{}'.format(FOLDERNAME))"
      ]
    },
    {
      "cell_type": "code",
      "execution_count": null,
      "metadata": {
        "id": "kkN8Dc2a-hXo"
      },
      "outputs": [],
      "source": [
        "import os\n",
        "import pandas as pd\n",
        "from PIL import Image\n",
        "from tqdm import tqdm\n",
        "import numpy as np\n",
        "import matplotlib.pyplot as plt\n",
        "import torch\n",
        "import torch.nn as nn\n",
        "import math\n",
        "from torch.autograd import Variable"
      ]
    },
    {
      "cell_type": "markdown",
      "metadata": {
        "id": "seN4ZCwxeJAU"
      },
      "source": [
        "###Data Processing"
      ]
    },
    {
      "cell_type": "markdown",
      "metadata": {
        "id": "W5lAotP_eW5L"
      },
      "source": [
        "##Load CSV Files"
      ]
    },
    {
      "cell_type": "code",
      "execution_count": null,
      "metadata": {
        "id": "rghvnPfHeHpd"
      },
      "outputs": [],
      "source": [
        "#   Return Vlue Dimension: X_3[i]=ith music, X_3[i][j]=jth segment in ith music, X_3[i][j][k]=kth feature of jth segment in ith music\n",
        "#                          X_30[i]=ith music, X_30[i][j] = jth feature in ith music\n",
        "def load_csv():\n",
        "  X_30 = pd.read_csv('/content/drive/Shareddrives/final_project/datasets/features_30_sec.csv', header=0)\n",
        "  X_3_tmp = pd.read_csv('/content/drive/Shareddrives/final_project/datasets/features_3_sec.csv', header=0)\n",
        "  X_3_tmp = np.array(X_3_tmp)\n",
        "\n",
        "  X_3 = []\n",
        "  cur = []\n",
        "\n",
        "  i = 0\n",
        "  while i < X_3_tmp.shape[0]:\n",
        "    if X_3_tmp[i][0][-5] == \"9\":\n",
        "      i+=1\n",
        "      continue\n",
        "    cur.append(X_3_tmp[i])\n",
        "    i+=1\n",
        "\n",
        "  X_3_tmp = np.array(cur)\n",
        "\n",
        "  i = 0\n",
        "  j = 0\n",
        "  while i < 1000:\n",
        "    X_3.append([])\n",
        "    for k in range(9):\n",
        "      X_3[i].append(X_3_tmp[j+k]) #Dimension\n",
        "\n",
        "    i+=1\n",
        "    j+=9\n",
        "  return np.array(X_30), np.array(X_3)\n",
        "\n",
        "def process_Y(X_30, X_3):\n",
        "  tmp_30 = X_30[:, -1]\n",
        "  tmp_3 = X_3[:, -1]\n",
        "  Y_30 = []\n",
        "  Y_3 = []\n",
        "\n",
        "  for elem in tmp_30:\n",
        "    if elem == 'metal':\n",
        "      Y_30.append([1, 0, 0, 0, 0, 0, 0, 0, 0, 0])\n",
        "    elif elem == 'classical':\n",
        "      Y_30.append([0, 1, 0, 0, 0, 0, 0, 0, 0, 0])\n",
        "    elif elem =='hiphop':\n",
        "      Y_30.append([0, 0, 1, 0, 0, 0, 0, 0, 0, 0])\n",
        "    elif elem =='country':\n",
        "      Y_30.append([0, 0, 0, 1, 0, 0, 0, 0, 0, 0])\n",
        "    elif elem =='disco':\n",
        "      Y_30.append([0, 0, 0, 0, 1, 0, 0, 0, 0, 0])\n",
        "    elif elem =='jazz':\n",
        "      Y_30.append([0, 0, 0, 0, 0, 1, 0, 0, 0, 0])\n",
        "    elif elem =='reggae':\n",
        "      Y_30.append([0, 0, 0, 0, 0, 0, 1, 0, 0, 0])\n",
        "    elif elem =='rock':\n",
        "      Y_30.append([0, 0, 0, 0, 0, 0, 0, 1, 0, 0])\n",
        "    elif elem =='blues':\n",
        "      Y_30.append([0, 0, 0, 0, 0, 0, 0, 0, 1, 0])\n",
        "    else:\n",
        "      Y_30.append([0, 0, 0, 0, 0, 0, 0, 0, 0, 1])\n",
        "\n",
        "    output = np.array(Y_30)\n",
        "\n",
        "  return output, output.copy()"
      ]
    },
    {
      "cell_type": "markdown",
      "metadata": {
        "id": "ynlJ_ZU8DuQC"
      },
      "source": [
        "### Data Loading and Normalization"
      ]
    },
    {
      "cell_type": "code",
      "execution_count": null,
      "metadata": {
        "id": "dU8iB48BreOo"
      },
      "outputs": [],
      "source": [
        "def z_normalize(input, mean, std):\n",
        "  return (input - mean) / std"
      ]
    },
    {
      "cell_type": "code",
      "execution_count": null,
      "metadata": {
        "id": "TONp-ECzaqJJ"
      },
      "outputs": [],
      "source": [
        "def np_to_tensor(nparr):\n",
        "  return torch.from_numpy(nparr).to(torch.device(\"cuda:0\"))"
      ]
    },
    {
      "cell_type": "code",
      "execution_count": null,
      "metadata": {
        "id": "0X3Sl0L3kTyv"
      },
      "outputs": [],
      "source": [
        "X_30, X_3 = load_csv()\n",
        "Y_30, Y_3 = process_Y(X_30, X_3)\n",
        "X_30 = X_30[:, 2:-1]\n",
        "X_30 = X_30.astype(float)\n",
        "X_3 = X_3[:, :, 2:-1]\n",
        "# NP_to_Tensor = np.vectorize(np_to_tensor)\n",
        "# X_3 = NP_to_Tensor(X_3)\n",
        "X_3 = X_3.astype(float)\n",
        "\n",
        "normalize = np.vectorize(z_normalize)\n",
        "for feature in range(len(X_30[0])):\n",
        "  X_30[:, feature] = (X_30[:, feature] - np.mean(X_30[:, feature])) / np.std(X_30[:, feature])\n",
        "\n",
        "for feature in range(len(X_3[0][0])):\n",
        "  X_3_flat = X_3[:, :, feature].flatten()\n",
        "  X_3[:, :, feature] = ((X_3_flat - np.mean(X_3_flat)) / np.std(X_3_flat)).reshape(1000, 9)"
      ]
    },
    {
      "cell_type": "code",
      "execution_count": null,
      "metadata": {
        "id": "LUmWS5olkZQJ",
        "colab": {
          "base_uri": "https://localhost:8080/"
        },
        "outputId": "74b1051b-a988-461a-e3a5-ad6361b7cf3d"
      },
      "outputs": [
        {
          "output_type": "stream",
          "name": "stdout",
          "text": [
            "(1000, 57)\n",
            "(1000, 9, 57)\n",
            "(1000, 10)\n",
            "(1000, 10)\n"
          ]
        }
      ],
      "source": [
        "print(X_30.shape)\n",
        "# print(X_30[0])\n",
        "print(X_3.shape)\n",
        "# print(X_3[0])\n",
        "print(Y_30.shape)\n",
        "# print(Y_30[0])\n",
        "print(Y_3.shape)\n",
        "# print(Y_3[0])"
      ]
    },
    {
      "cell_type": "markdown",
      "metadata": {
        "id": "H-TRW7a4FSuo"
      },
      "source": [
        "### Train, Test split"
      ]
    },
    {
      "cell_type": "code",
      "execution_count": null,
      "metadata": {
        "id": "DqtnjDqjFVS-"
      },
      "outputs": [],
      "source": [
        "def train_test_split_csv():\n",
        "  x_30_train, y_30_train, x_3_train, y_3_train = None, None, None, None\n",
        "  x_30_test, y_30_test, x_3_test, y_3_test = None, None, None, None\n",
        "\n",
        "  x_30_train = np.concatenate((X_30[0:80], X_30[100:180], X_30[200:280], X_30[300:380], X_30[400:480],\n",
        "                               X_30[500:580], X_30[600:680], X_30[700:780], X_30[800:880], X_30[900:980]))\n",
        "  y_30_train = np.concatenate((Y_30[0:80], Y_30[100:180], Y_30[200:280], Y_30[300:380], Y_30[400:480],\n",
        "                               Y_30[500:580], Y_30[600:680], Y_30[700:780], Y_30[800:880], Y_30[900:980]))\n",
        "  x_3_train = np.concatenate((X_3[0:80], X_3[100:180], X_3[200:280], X_3[300:380], X_3[400:480],\n",
        "                               X_3[500:580], X_3[600:680], X_3[700:780], X_3[800:880], X_3[900:980]))\n",
        "\n",
        "  x_30_test = np.concatenate((X_30[80:100], X_30[180:200], X_30[280:300], X_30[380:400], X_30[480:500],\n",
        "                               X_30[580:600], X_30[680:700], X_30[780:800], X_30[880:900], X_30[980:1000]))\n",
        "  y_30_test = np.concatenate((Y_30[80:100], Y_30[180:200], Y_30[280:300], Y_30[380:400], Y_30[480:500],\n",
        "                               Y_30[580:600], Y_30[680:700], Y_30[780:800], Y_30[880:900], Y_30[980:1000]))\n",
        "  x_3_test = np.concatenate((X_3[80:100], X_3[180:200], X_3[280:300], X_3[380:400], X_3[480:500],\n",
        "                               X_3[580:600], X_3[680:700], X_3[780:800], X_3[880:900], X_3[980:1000]))\n",
        "\n",
        "  y_3_train = y_30_train.copy()\n",
        "  y_3_test = y_30_test.copy()\n",
        "\n",
        "  return torch.as_tensor(x_30_train, dtype=torch.float), torch.as_tensor(y_30_train, dtype=torch.float), torch.as_tensor(x_3_train, dtype=torch.float), torch.as_tensor(y_3_train, dtype=torch.float), torch.as_tensor(x_30_test, dtype=torch.float), torch.as_tensor(y_30_test, dtype=torch.float), torch.as_tensor(x_3_test, dtype=torch.float), torch.as_tensor(y_3_test, dtype=torch.float)"
      ]
    },
    {
      "cell_type": "code",
      "execution_count": null,
      "metadata": {
        "id": "MJSxIfBRHbh6"
      },
      "outputs": [],
      "source": [
        "X_30_train, Y_30_train, X_3_train, Y_3_train, X_30_test, Y_30_test, X_3_test, Y_3_test = train_test_split_csv()\n",
        "#X_30_train, Y_30_train, X_3_train, Y_3_train, X_30_test, Y_30_test, X_3_test, Y_3_test = X_30_train.to(torch.device(\"cuda:0\")), Y_30_train.to(torch.device(\"cuda:0\")), X_3_train.to(torch.device(\"cuda:0\")), Y_3_train.to(torch.device(\"cuda:0\")), X_30_test.to(torch.device(\"cuda:0\")), Y_30_test.to(torch.device(\"cuda:0\")), X_3_test.to(torch.device(\"cuda:0\")), Y_3_test.to(torch.device(\"cuda:0\"))"
      ]
    },
    {
      "cell_type": "markdown",
      "metadata": {
        "id": "ADGcAaGnOJR0"
      },
      "source": [
        "### Model"
      ]
    },
    {
      "cell_type": "markdown",
      "metadata": {
        "id": "Z7sdMkxIPVaI"
      },
      "source": [
        "Multilayer"
      ]
    },
    {
      "cell_type": "code",
      "execution_count": null,
      "metadata": {
        "id": "DVUXWtfbPSlk"
      },
      "outputs": [],
      "source": [
        "class MLP():\n",
        "  def __init__(self):\n",
        "    self.MLP_model = nn.Sequential(\n",
        "          nn.Linear(57, 64),\n",
        "          nn.LeakyReLU(),\n",
        "          nn.Linear(64, 128),\n",
        "          nn.LeakyReLU(),\n",
        "          nn.Linear(128, 10),\n",
        "          nn.LogSigmoid()\n",
        "          )\n",
        "    self.MLP_model # .to(torch.device(\"cuda:0\"))\n",
        "    self.MLP_model.train()"
      ]
    },
    {
      "cell_type": "code",
      "execution_count": null,
      "metadata": {
        "id": "2A_9IS3HOWqm",
        "colab": {
          "base_uri": "https://localhost:8080/"
        },
        "outputId": "b8f6f9e0-b939-4efe-edfd-35e025f594c4"
      },
      "outputs": [
        {
          "output_type": "execute_result",
          "data": {
            "text/plain": [
              "Sequential(\n",
              "  (0): Linear(in_features=57, out_features=64, bias=True)\n",
              "  (1): LeakyReLU(negative_slope=0.01)\n",
              "  (2): Linear(in_features=64, out_features=128, bias=True)\n",
              "  (3): LeakyReLU(negative_slope=0.01)\n",
              "  (4): Linear(in_features=128, out_features=10, bias=True)\n",
              "  (5): LogSigmoid()\n",
              ")"
            ]
          },
          "metadata": {},
          "execution_count": 38
        }
      ],
      "source": [
        "MLP_model = nn.Sequential(\n",
        "          nn.Linear(57, 64),\n",
        "          nn.LeakyReLU(),\n",
        "          nn.Linear(64, 128),\n",
        "          nn.LeakyReLU(),\n",
        "          nn.Linear(128, 10),\n",
        "          nn.LogSigmoid()\n",
        "          )\n",
        "MLP_model # .to(torch.device(\"cuda:0\"))\n",
        "MLP_model.train()"
      ]
    },
    {
      "cell_type": "markdown",
      "metadata": {
        "id": "o5GTDQUIPZDd"
      },
      "source": [
        "RNN_LSTM"
      ]
    },
    {
      "cell_type": "code",
      "execution_count": null,
      "metadata": {
        "id": "pR6F-knqLDsA"
      },
      "outputs": [],
      "source": [
        "class LSTM(nn.Module):\n",
        "  def __init__(self, input_size, hidden_size, layer_size, output_size):\n",
        "    super(LSTM, self).__init__()\n",
        "    self.hidden_size = hidden_size\n",
        "    self.input_size = input_size\n",
        "    self.layer_size = layer_size\n",
        "    self.output_size = output_size\n",
        "    self.lstm = nn.LSTM(self.input_size, self.hidden_size, self.layer_size)\n",
        "    self.fc = nn.Sequential(\n",
        "        # nn.Linear(hidden_size, 64),\n",
        "        # nn.Dropout(0.1),\n",
        "        # nn.ReLU(),\n",
        "        # nn.Linear(64, 32),\n",
        "        # nn.ReLU(),\n",
        "        nn.Linear(self.hidden_size, output_size)\n",
        "    )\n",
        "    self.logsigmoid = nn.LogSigmoid()\n",
        "\n",
        "  def forward(self, input):\n",
        "    #h0 = Variable(torch.randn(self.layer_size, self.hidden_size)) # .to(torch.device(\"cuda:0\"))\n",
        "    #c0 = Variable(torch.randn(self.layer_size, self.hidden_size)) # .to(torch.device(\"cuda:0\"))\n",
        "    #input = Variable(torch.randn(input.shape[0], input.shape[1])) # .to(torch.device(\"cuda:0\"))\n",
        "    output, (hn, cn) = self.lstm(input, None) #(h0, c0))\n",
        "    output = self.fc(output[-1])\n",
        "    output = self.logsigmoid(output)\n",
        "    return output"
      ]
    },
    {
      "cell_type": "code",
      "execution_count": null,
      "metadata": {
        "id": "ny0K9B0TOlFc",
        "colab": {
          "base_uri": "https://localhost:8080/"
        },
        "outputId": "a9d848e3-5fe3-4d2b-9c5b-efa84fe3ac4e"
      },
      "outputs": [
        {
          "output_type": "execute_result",
          "data": {
            "text/plain": [
              "LSTM(\n",
              "  (lstm): LSTM(57, 128, num_layers=3)\n",
              "  (fc): Sequential(\n",
              "    (0): Linear(in_features=128, out_features=10, bias=True)\n",
              "  )\n",
              "  (logsigmoid): LogSigmoid()\n",
              ")"
            ]
          },
          "metadata": {},
          "execution_count": 40
        }
      ],
      "source": [
        "lstm = LSTM(57, 128, 3, 10)\n",
        "lstm.train()"
      ]
    },
    {
      "cell_type": "markdown",
      "metadata": {
        "id": "iSPV_FASPFUY"
      },
      "source": [
        "### Training"
      ]
    },
    {
      "cell_type": "code",
      "execution_count": null,
      "metadata": {
        "id": "Tca-K385yjGF"
      },
      "outputs": [],
      "source": [
        "def MLP_train(loss_function, input, label, epoch, lr):\n",
        "  loss_hist = []\n",
        "  model = MLP().MLP_model\n",
        "  optimizer = torch.optim.Adam(model.parameters(), lr)\n",
        "  idx = np.random.permutation(input.shape[0])\n",
        "  input, label = input[idx], label[idx]\n",
        "  for _ in range(epoch):\n",
        "    run_loss = 0.0\n",
        "    for i in range(input.shape[0]):\n",
        "      optimizer.zero_grad()\n",
        "    #  tmp = input[i].permute(2, 0, 1)\n",
        "    #  tmp = tmp.unsqueeze(0)\n",
        "      prediction = model(input[i])\n",
        "      loss = loss_function(prediction.reshape(10,), torch.argmax(label[i]))\n",
        "      run_loss += loss.detach().numpy() #.to(torch.device(\"cpu\")).detach().numpy()\n",
        "      loss.backward()\n",
        "      optimizer.step()\n",
        "    loss_hist.append(run_loss)\n",
        "  return model, loss_hist"
      ]
    },
    {
      "cell_type": "code",
      "execution_count": null,
      "metadata": {
        "id": "ejL2O7bNWLUB"
      },
      "outputs": [],
      "source": [
        "# input = 1000*9*57\n",
        "# label = 1000*10\n",
        "def LSTM_train(loss_function, input, label, epoch, lr, hidden_dim, layer_num):\n",
        "  loss_hist = []\n",
        "  model = LSTM(input.shape[2], hidden_dim, layer_num, label.shape[1])\n",
        "  #model = model.to(torch.device(\"cuda:0\"))\n",
        "  optimizer = torch.optim.Adam(model.parameters(), lr=lr)\n",
        "  for _ in range(epoch):\n",
        "    run_loss = 0.0\n",
        "    for i in range(input.shape[0]):\n",
        "      optimizer.zero_grad()\n",
        "    #  tmp = input[i].permute(2, 0, 1)\n",
        "    #  tmp = tmp.unsqueeze(0)\n",
        "      prediction = model(input[i])\n",
        "      loss = loss_function(prediction, label[i])\n",
        "      run_loss += loss.detach().numpy() # .to(torch.device(\"cpu\")).detach().numpy()\n",
        "      loss.backward()\n",
        "      optimizer.step()\n",
        "    loss_hist.append(run_loss)\n",
        "  return model, loss_hist"
      ]
    },
    {
      "cell_type": "markdown",
      "metadata": {
        "id": "bIyoD7HXPJht"
      },
      "source": [
        "### Evaluation and Hyper-tuning\n"
      ]
    },
    {
      "cell_type": "code",
      "execution_count": null,
      "metadata": {
        "id": "3x1FmV3FRMfC"
      },
      "outputs": [],
      "source": [
        "def MLP_evaluation(model, input, label):\n",
        "  # model.eval()\n",
        "  acc = 0\n",
        "  for i in range(input.shape[0]):\n",
        "    prediction = model(input[i])\n",
        "    acc += 1 if torch.argmax(prediction.reshape(10)) == torch.argmax(label[i]) else 0\n",
        "  return acc/input.shape[0]"
      ]
    },
    {
      "cell_type": "code",
      "execution_count": null,
      "metadata": {
        "id": "WF2j9ffLlE8L",
        "colab": {
          "base_uri": "https://localhost:8080/",
          "height": 667
        },
        "outputId": "05c7aa2f-76fb-4872-bbfb-0c18242520de"
      },
      "outputs": [
        {
          "output_type": "stream",
          "name": "stdout",
          "text": [
            "1/5\n",
            "Best accuracy so far is 0.56\n",
            "2/5\n",
            "Best accuracy so far is 0.56\n",
            "3/5\n",
            "Best accuracy so far is 0.56\n",
            "4/5\n",
            "Best accuracy so far is 0.565\n",
            "5/5\n",
            "Best accuracy so far is 0.565\n",
            "Best MLP accuracy is 0.565\n",
            "Best MLP has a learning rate of 8e-05\n"
          ]
        },
        {
          "output_type": "display_data",
          "data": {
            "text/plain": [
              "<Figure size 640x480 with 1 Axes>"
            ],
            "image/png": "[encoded data removed]"
          },
          "metadata": {}
        }
      ],
      "source": [
        "def MLP_hyper_tuning():\n",
        "  learning_rate = [1e-5, 3e-5, 5e-5, 8e-5, 1e-4]\n",
        "  best_accuracy = -math.inf\n",
        "  best_lr = 0\n",
        "  epoch = 200\n",
        "  loss_function = nn.CrossEntropyLoss()\n",
        "  count = 0\n",
        "  best_loss_hist = []\n",
        "  for lr in learning_rate:\n",
        "    MLP_model,loss_hist = MLP_train(loss_function, X_30_train, Y_30_train, epoch, lr)\n",
        "    MLP_accuracy = MLP_evaluation(MLP_model, X_30_test, Y_30_test)\n",
        "    if MLP_accuracy > best_accuracy:\n",
        "      best_accuracy = MLP_accuracy\n",
        "      best_lr = lr\n",
        "      best_loss_hist = loss_hist\n",
        "    count += 1\n",
        "    print(f'{count}/5')\n",
        "    print(f'Best accuracy so far is {best_accuracy}')\n",
        "  print(f'Best MLP accuracy is {best_accuracy}')\n",
        "  print(f'Best MLP has a learning rate of {best_lr}')\n",
        "  plt.plot(best_loss_hist, label=\"Training Loss History\")\n",
        "  plt.xlabel(\"Epoch\")\n",
        "  plt.ylabel(\"Loss\")\n",
        "  plt.show()\n",
        "  plt.close()\n",
        "\n",
        "MLP_hyper_tuning()"
      ]
    },
    {
      "cell_type": "code",
      "execution_count": null,
      "metadata": {
        "id": "b9KHSuOy6zsS"
      },
      "outputs": [],
      "source": [
        "def LSTM_evaluation(model, input, label):\n",
        "  # model.eval()\n",
        "  acc = 0\n",
        "  for i in range(0, input.shape[0]):\n",
        "    prediction = model(input[i])\n",
        "    acc += 1 if torch.argmax(prediction) == torch.argmax(label[i]) else 0\n",
        "  return acc/(input.shape[0])"
      ]
    },
    {
      "cell_type": "code",
      "execution_count": null,
      "metadata": {
        "id": "48Xi_EYMgaDJ",
        "colab": {
          "base_uri": "https://localhost:8080/",
          "height": 957
        },
        "outputId": "aa6b6fdc-ae92-4663-a16a-592d83526533"
      },
      "outputs": [
        {
          "output_type": "stream",
          "name": "stdout",
          "text": [
            "1/12\n",
            "Best accuracy so far: 0.515\n",
            "2/12\n",
            "Best accuracy so far: 0.515\n",
            "3/12\n",
            "Best accuracy so far: 0.58\n",
            "4/12\n",
            "Best accuracy so far: 0.58\n",
            "5/12\n",
            "Best accuracy so far: 0.6\n",
            "6/12\n",
            "Best accuracy so far: 0.6\n",
            "7/12\n",
            "Best accuracy so far: 0.6\n",
            "8/12\n",
            "Best accuracy so far: 0.6\n",
            "9/12\n",
            "Best accuracy so far: 0.6\n",
            "10/12\n",
            "Best accuracy so far: 0.6\n",
            "11/12\n",
            "Best accuracy so far: 0.6\n",
            "12/12\n",
            "Best accuracy so far: 0.6\n",
            "Best LSTM Accuracy is 0.6\n",
            "Best LSTM has a learning rate of 8e-05\n",
            "Best LSTM has 64 nodes in each hidden layer\n",
            "Best LSTM has 3 hidden layers\n"
          ]
        },
        {
          "output_type": "display_data",
          "data": {
            "text/plain": [
              "<Figure size 640x480 with 1 Axes>"
            ],
            "image/png": "[encoded data removed]"
          },
          "metadata": {}
        }
      ],
      "source": [
        "def LSTM_hyper_tuning():\n",
        "  learning_rate = [6e-5, 8e-5, 1e-4]\n",
        "  hidden_layer_size = [64, 128]\n",
        "  hidden_layer_num = [3, 4]\n",
        "  best_accuracy = -math.inf\n",
        "  best_model = {\"lr\": 0, \"hls\": 0, \"hln\": 0}\n",
        "  best_loss_hist = []\n",
        "  epoch = 100\n",
        "  loss_function = nn.CrossEntropyLoss()\n",
        "  count = 0\n",
        "  for lr in learning_rate:\n",
        "    for hls in hidden_layer_size:\n",
        "      for hln in hidden_layer_num:\n",
        "        LSTM_model, loss_hist = LSTM_train(loss_function, X_3_train, Y_3_train, epoch, lr, hls, hln)\n",
        "        LSTM_accuracy = LSTM_evaluation(LSTM_model, X_3_test, Y_3_test)\n",
        "        if LSTM_accuracy > best_accuracy:\n",
        "          best_accuracy = LSTM_accuracy\n",
        "          best_model[\"lr\"] = lr\n",
        "          best_model[\"hls\"] = hls\n",
        "          best_model[\"hln\"] = hln\n",
        "          best_loss_hist = loss_hist\n",
        "        count += 1\n",
        "        print(f'{count}/12')\n",
        "        print(f'Best accuracy so far: {best_accuracy}')\n",
        "  print(f'Best LSTM Accuracy is {best_accuracy}')\n",
        "  print(f'Best LSTM has a learning rate of {best_model[\"lr\"]}')\n",
        "  print(f'Best LSTM has {best_model[\"hls\"]} nodes in each hidden layer')\n",
        "  print(f'Best LSTM has {best_model[\"hln\"]} hidden layers')\n",
        "  plt.plot(best_loss_hist, label=\"Training Loss History\")\n",
        "  plt.xlabel(\"Epoch\")\n",
        "  plt.ylabel(\"Loss\")\n",
        "  plt.show()\n",
        "  plt.close()\n",
        "\n",
        "LSTM_hyper_tuning()\n"
      ]
    }
  ],
  "metadata": {
    "accelerator": "GPU",
    "colab": {
      "provenance": [],
      "gpuType": "T4"
    },
    "kernelspec": {
      "display_name": "Python 3",
      "name": "python3"
    },
    "language_info": {
      "name": "python"
    }
  },
  "nbformat": 4,
  "nbformat_minor": 0
}